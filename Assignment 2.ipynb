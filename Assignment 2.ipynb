{
 "cells": [
  {
   "cell_type": "markdown",
   "metadata": {},
   "source": [
    "# Problem 1\n",
    "Write function to validate whether a given (parameter) list contains only non-negative numbers with (1) a loop, (2) recursion."
   ]
  },
  {
   "cell_type": "code",
   "execution_count": 4,
   "metadata": {},
   "outputs": [
    {
     "name": "stdout",
     "output_type": "stream",
     "text": [
      "negative number found\n"
     ]
    }
   ],
   "source": [
    "lst = [1,2,3,4,5]\n",
    "for i in lst: \n",
    "    if (i <0):\n",
    "        continue\n",
    "    else:\n",
    "        print('negative number found')\n",
    "        break"
   ]
  },
  {
   "cell_type": "code",
   "execution_count": 5,
   "metadata": {},
   "outputs": [
    {
     "name": "stdout",
     "output_type": "stream",
     "text": [
      "no negative found\n",
      "negative found\n"
     ]
    }
   ],
   "source": [
    "def recNegFind(p):\n",
    "    if len(p) == 0:\n",
    "        return \"no negative found\"                    \n",
    "    else:\n",
    "        if p[0] < 0:\n",
    "            return \"negative found\"\n",
    "        else:\n",
    "            return recNegFind(p[1:])\n",
    "print (recNegFind([1,2,3,4]))  \n",
    "\n",
    "print (recNegFind([1,2,-3,4]))   "
   ]
  },
  {
   "cell_type": "markdown",
   "metadata": {},
   "source": [
    "# Problem 2\n",
    "It was discovered more than 300 years ago that π/4 = 1 – 1/3 + 1/5 - 1/7 + 1/9 - …. (The formula contains infinitely many terms, but the pattern of the missing terms should be self-explanatory).  \n",
    "\n",
    "Write a method that returns an approximation of π by 1 – 1/3 + 1/5 - 1/7 +…+ (-1)n 1/(2n+1) , where n is a parameter of the method.  The method also returns the error of the approximation, which is roughly 1/(2n+3), the leading term of remainder.  "
   ]
  },
  {
   "cell_type": "code",
   "execution_count": 60,
   "metadata": {},
   "outputs": [
    {
     "name": "stdout",
     "output_type": "stream",
     "text": [
      "(3.238095238095238, 0.09650258450544502)\n"
     ]
    }
   ],
   "source": [
    "def piApprox(num):\n",
    "    pi= 4.0\n",
    "    k = 1.0\n",
    "    est = 1.0\n",
    "    while 1<num:\n",
    "        k += 2\n",
    "        est = est-(1/k)+1/(k+2)\n",
    "        num = num-1\n",
    "\n",
    "    return pi*est, (pi*est - 3.141592653589793)\n",
    "\n",
    "print(piApprox(3))"
   ]
  },
  {
   "cell_type": "markdown",
   "metadata": {},
   "source": [
    "# Problem 3\n",
    "Write a function that takes a list of integers and returns a list that contains only elements of the parameter list that are even numbers. For example, even_elements([1, 2, 3, 4, 5]) returns [2, 4].  "
   ]
  },
  {
   "cell_type": "code",
   "execution_count": 15,
   "metadata": {},
   "outputs": [
    {
     "name": "stdout",
     "output_type": "stream",
     "text": [
      "[2, 4]\n",
      "[2, 4, 6]\n"
     ]
    }
   ],
   "source": [
    "def recPosFind(p,lst):\n",
    "    if len(p) == 0:\n",
    "        return lst                   \n",
    "    else:\n",
    "        if (p[0] % 2) == 0:\n",
    "            lst.append(p[0])\n",
    "            return recPosFind(p[1:],lst)\n",
    "        else:\n",
    "            return recPosFind(p[1:],lst)\n",
    "print (recPosFind([1,2,3,4],[]))  \n",
    "\n",
    "print (recPosFind([1,2,3,4,5,6,7],[]))   "
   ]
  },
  {
   "cell_type": "markdown",
   "metadata": {},
   "source": [
    "# Problem 4\n",
    "Write a method that accepts an integer list, which may contain repeated elements, and returns a list that contains the elements in the original list without duplication however.  For example, eliminate_dups([2, 2, 4, 3, 4, 1]) would return [2, 4, 3, 1]. "
   ]
  },
  {
   "cell_type": "code",
   "execution_count": 44,
   "metadata": {},
   "outputs": [
    {
     "name": "stdout",
     "output_type": "stream",
     "text": [
      "[2, 4, 3, 1]\n"
     ]
    }
   ],
   "source": [
    "def remDups(lst):\n",
    "    return list(dict.fromkeys(lst))\n",
    "print(remDups([2,2,4,3,2,1]))"
   ]
  },
  {
   "cell_type": "markdown",
   "metadata": {},
   "source": [
    "# Problem 5\n",
    "The so-called hailstone sequence is formed by the following rules:\n",
    "\n",
    "You start with some integer n:\n",
    "- If n is equal to 1, you’ve reached the end of the sequence.\n",
    "- If n is even, divide it by 2\n",
    "- If n is odd, multiply it by 3 and add 1.\n"
   ]
  },
  {
   "cell_type": "code",
   "execution_count": 56,
   "metadata": {},
   "outputs": [
    {
     "name": "stdout",
     "output_type": "stream",
     "text": [
      "[16, 8.0, 4.0, 2.0, 1.0]\n"
     ]
    }
   ],
   "source": [
    "def hailstoneSeq(n):\n",
    "    if n == 1:\n",
    "        return n\n",
    "    if (n % 2) == 0:\n",
    "        return n/2\n",
    "    else:\n",
    "        return ((n*3)+1)\n",
    "\n",
    "def recHailstone(n,lst):\n",
    "    lst.append(hailstoneSeq(n))\n",
    "    \n",
    "    if lst[-1] == 1: \n",
    "        return lst\n",
    "    else:\n",
    "        n = lst[-1]\n",
    "        return recHailstone(n,lst)\n",
    "\n",
    "print (recHailstone(5,[]))\n",
    "        "
   ]
  },
  {
   "cell_type": "markdown",
   "metadata": {},
   "source": [
    "# Problem 6\n",
    "Write a method with a positive integer parameter n. The method returns a dictionary with n key-value pairs.  The keys are strings ‘col 1’, ‘col 2’, …., ‘col n’. The values are lists: [1, 2, …, n], [2, 3, …, n, 1], …., [n, 1, 2, …, n-1] (note that each list is a slight modification of the previous one by placing the first element at the end). For example, get_dict(3) would return {'col 1': [1, 2, 3], 'col 2': [2, 3, 1], 'col 3': [3, 1, 2]}."
   ]
  },
  {
   "cell_type": "code",
   "execution_count": 134,
   "metadata": {},
   "outputs": [
    {
     "name": "stdout",
     "output_type": "stream",
     "text": [
      "{'col 1': [1, 2, 3, 4, 5], 'col 2': [2, 3, 4, 5, 1], 'col 3': [3, 4, 5, 1, 2], 'col 4': [4, 5, 1, 2, 3], 'col 5': [5, 1, 2, 3, 4]}\n"
     ]
    }
   ],
   "source": [
    "def get_dict(num):\n",
    "    \n",
    "    shiftLst = []\n",
    "    colLst = []\n",
    "    lst = list(range(1, num+1)) \n",
    "    \n",
    "    for i in range (1, num+1):\n",
    "        colLst.append(\"col \" + str(i))\n",
    "     \n",
    "    for i in range (1, num+1):\n",
    "        shiftLst.append(lst[:])\n",
    "        lst.append(lst.pop(0))        \n",
    "         \n",
    "    return dict(zip(colLst, shiftLst))\n",
    "    \n",
    "print(get_dict(5))"
   ]
  }
 ],
 "metadata": {
  "kernelspec": {
   "display_name": "Python 3",
   "language": "python",
   "name": "python3"
  },
  "language_info": {
   "codemirror_mode": {
    "name": "ipython",
    "version": 3
   },
   "file_extension": ".py",
   "mimetype": "text/x-python",
   "name": "python",
   "nbconvert_exporter": "python",
   "pygments_lexer": "ipython3",
   "version": "3.7.3"
  }
 },
 "nbformat": 4,
 "nbformat_minor": 2
}
